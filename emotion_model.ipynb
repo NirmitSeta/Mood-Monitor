import cv2
import numpy as np
from tensorflow.keras.models import load_model

# Load pre-trained facial expression detection model
model = load_model('emotion_model.hdf5')  # You need to have a trained model file (e.g., model.h5)

# Load Haar Cascade for face detection
face_cascade = cv2.CascadeClassifier(cv2.data.haarcascades + 'haarcascade_frontalface_default.xml')

# Define a function to detect and classify facial expressions
def detect_emotion(frame):
    gray = cv2.cvtColor(frame, cv2.COLOR_BGR2GRAY)
    faces = face_cascade.detectMultiScale(gray, scaleFactor=1.1, minNeighbors=5, minSize=(30, 30))
    
    for (x, y, w, h) in faces:
        roi_gray = gray[y:y+h, x:x+w]
        resized = cv2.resize(roi_gray, (64, 64), interpolation=cv2.INTER_AREA)
        resized = np.expand_dims(np.expand_dims(resized, -1), 0)
        prediction = model.predict(resized)
        max_index = int(np.argmax(prediction))
        emotions = {0: 'Angry', 1: 'Disgust', 2: 'Fear', 3: 'Happy', 4: 'Sad', 5: 'Surprise', 6: 'Neutral'}
        emotion = emotions[max_index]
        
        # Draw rectangle around the face and label the emotion
        cv2.rectangle(frame, (x, y), (x+w, y+h), (255, 0, 0), 2)
        cv2.putText(frame, emotion, (x, y), cv2.FONT_HERSHEY_SIMPLEX, 1, (0, 255, 0), 2, cv2.LINE_AA)
    
    return frame

# Capture video from webcam and detect emotions in real-time
cap = cv2.VideoCapture(0)

while True:
    ret, frame = cap.read()
    if not ret:
        break
    
    frame = detect_emotion(frame)
    
    cv2.imshow('Facial Expression Detection', frame)
    
    if cv2.waitKey(1) & 0xFF == ord('q'):
        break

cap.release()
cv2.destroyAllWindows()
